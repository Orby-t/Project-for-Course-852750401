{
 "cells": [
  {
   "cell_type": "code",
   "execution_count": 1,
   "id": "ee5d6752",
   "metadata": {},
   "outputs": [],
   "source": [
    "import os\n",
    "import mne\n",
    "import numpy as np\n",
    "import torch\n",
    "import torch.nn as nn\n",
    "from torch.utils.data import Dataset, DataLoader\n",
    "from sklearn.preprocessing import MinMaxScaler\n",
    "from sklearn.model_selection import train_test_split\n",
    "from sklearn.metrics import mean_squared_error\n",
    "from scipy.stats import pearsonr\n",
    "import matplotlib.pyplot as plt\n",
    "from tqdm import tqdm"
   ]
  },
  {
   "cell_type": "code",
   "execution_count": 2,
   "id": "0f89b490",
   "metadata": {},
   "outputs": [],
   "source": [
    "# Available electrodes - only frontal\n",
    "ELECTRODES = ['Fp1', 'Fp2', 'F3', 'F4', 'F7', 'F8']"
   ]
  },
  {
   "cell_type": "markdown",
   "id": "56486722",
   "metadata": {},
   "source": [
    "# Setup - Model Architecture and Data functions"
   ]
  },
  {
   "cell_type": "code",
   "execution_count": null,
   "id": "54a4d058",
   "metadata": {},
   "outputs": [],
   "source": [
    "class LSTMModel(nn.Module):\n",
    "    def __init__(self, input_size=6, hidden_size1=128, hidden_size2=64, output_size=2500):\n",
    "        super(LSTMModel, self).__init__()\n",
    "        \n",
    "        # First LSTM layer\n",
    "        self.lstm1 = nn.LSTM(input_size=input_size, \n",
    "                            hidden_size=hidden_size1,\n",
    "                            batch_first=True)\n",
    "        self.bn1 = nn.BatchNorm1d(hidden_size1)\n",
    "        \n",
    "        # Second LSTM layer\n",
    "        self.lstm2 = nn.LSTM(input_size=hidden_size1,\n",
    "                            hidden_size=hidden_size2,\n",
    "                            batch_first=True)\n",
    "        self.bn2 = nn.BatchNorm1d(hidden_size2)\n",
    "        \n",
    "        # Fully connected layers\n",
    "        self.fc1 = nn.Linear(hidden_size2, 256)\n",
    "        self.fc2 = nn.Linear(256, output_size * input_size)  # output_size per electrode\n",
    "        self.relu = nn.ReLU()\n",
    "        \n",
    "        self.input_size = input_size\n",
    "        self.output_size = output_size\n",
    "        \n",
    "    def forward(self, x):\n",
    "        batch_size = x.size(0)\n",
    "        \n",
    "        # First LSTM layer\n",
    "        lstm_out1, _ = self.lstm1(x)\n",
    "        # Reshape for batch normalization\n",
    "        lstm_out1 = lstm_out1.permute(0, 2, 1)\n",
    "        bn_out1 = self.bn1(lstm_out1)\n",
    "        bn_out1 = bn_out1.permute(0, 2, 1)\n",
    "        \n",
    "        # Second LSTM layer\n",
    "        lstm_out2, _ = self.lstm2(bn_out1)\n",
    "        # Take the last output\n",
    "        lstm_out2 = lstm_out2[:, -1, :]\n",
    "        bn_out2 = self.bn2(lstm_out2.unsqueeze(2)).squeeze(2)\n",
    "        \n",
    "        # Fully connected layers\n",
    "        out = self.relu(self.fc1(bn_out2))\n",
    "        out = self.fc2(out)\n",
    "        \n",
    "        # Reshape output to (batch_size, output_size, num_electrodes)\n",
    "        out = out.view(batch_size, self.output_size, self.input_size)\n",
    "        \n",
    "        return out\n",
    "\n",
    "class EEGDataset(Dataset):\n",
    "    def __init__(self, inputs, labels):\n",
    "        self.inputs = torch.FloatTensor(inputs)\n",
    "        self.labels = torch.FloatTensor(labels)\n",
    "        \n",
    "    def __len__(self):\n",
    "        return len(self.inputs)\n",
    "    \n",
    "    def __getitem__(self, idx):\n",
    "        return self.inputs[idx], self.labels[idx]\n",
    "\n",
    "def train_model(model, train_loader, val_loader, criterion, optimizer, num_epochs, device):\n",
    "    model = model.to(device)\n",
    "    best_val_loss = float('inf')\n",
    "    total_train_loss = []\n",
    "    total_val_loss = []\n",
    "    for epoch in range(num_epochs):\n",
    "        model.train()\n",
    "        train_loss = 0\n",
    "        \n",
    "        # Training loop\n",
    "        for inputs, labels in tqdm(train_loader, desc=f'Epoch {epoch+1}/{num_epochs}'):\n",
    "            inputs, labels = inputs.to(device), labels.to(device)\n",
    "            \n",
    "            optimizer.zero_grad()\n",
    "            outputs = model(inputs)\n",
    "            loss = criterion(outputs, labels)\n",
    "            loss.backward()\n",
    "            optimizer.step()\n",
    "            \n",
    "            train_loss += loss.item()\n",
    "        \n",
    "        # Validation loop\n",
    "        model.eval()\n",
    "        val_loss = 0\n",
    "        with torch.no_grad():\n",
    "            for inputs, labels in val_loader:\n",
    "                inputs, labels = inputs.to(device), labels.to(device)\n",
    "                outputs = model(inputs)\n",
    "                val_loss += criterion(outputs, labels).item()\n",
    "        \n",
    "        # Calculate average losses\n",
    "        avg_train_loss = train_loss / len(train_loader)\n",
    "        avg_val_loss = val_loss / len(val_loader)\n",
    "        total_train_loss.append(avg_train_loss)\n",
    "        total_val_loss.append(avg_val_loss)\n",
    "        \n",
    "        print(f'Epoch {epoch+1}/{num_epochs}:')\n",
    "        print(f'Training Loss: {avg_train_loss:.4f}')\n",
    "        print(f'Validation Loss: {avg_val_loss:.4f}')\n",
    "        \n",
    "        # Save best model\n",
    "        if avg_val_loss < best_val_loss:\n",
    "            best_val_loss = avg_val_loss\n",
    "            torch.save(model.state_dict(), 'best_model.pth')\n",
    "    return total_train_loss, total_val_loss\n",
    "\n",
    "def load_and_preprocess_data(start_idx, end_idx):\n",
    "    print(f\"Loading data for patients {start_idx-1000}-{end_idx-1000}...\")\n",
    "    path = [f\"C:\\\\Users\\\\orben\\\\Downloads\\\\Data for ML project\\\\sub-{str(i)[1:]}\\\\eeg\\\\sub-{str(i)[1:]}_task-eyesclosed_eeg.set\" for i in range(start_idx, end_idx + 1)]\n",
    "    \n",
    "    eeg_data = []\n",
    "    for file_path in tqdm(path):\n",
    "        # Load the EEG data\n",
    "        raw = mne.io.read_raw_eeglab(file_path, preload=True)\n",
    "        # Select only frontal electrodes\n",
    "        data = raw.get_data(picks=ELECTRODES)\n",
    "        eeg_data.append(data)\n",
    "    \n",
    "    return eeg_data\n",
    "\n",
    "def segment_data(data, window_size, predict_size, overlap=0.5):\n",
    "    inputs = []\n",
    "    labels = []\n",
    "\n",
    "    for recording in data:\n",
    "        # Initialize scaler for each recording\n",
    "        scaler = MinMaxScaler(feature_range=(0, 1))\n",
    "        \n",
    "        # Reshape to (time_points, channels) for scaling\n",
    "        recording_reshaped = recording.T\n",
    "        \n",
    "        # Scale the data\n",
    "        normalized = scaler.fit_transform(recording_reshaped)\n",
    "        \n",
    "        # Segment the data into overlapping windows\n",
    "        for start in range(0, normalized.shape[0] - window_size - predict_size, int(window_size * (1 - overlap))):\n",
    "            # Extract segments for all channels\n",
    "            input_segment = normalized[start:start + window_size, :]\n",
    "            label_segment = normalized[start + window_size:start + window_size + predict_size, :]\n",
    "            inputs.append(input_segment)\n",
    "            labels.append(label_segment)\n",
    "\n",
    "    return np.array(inputs), np.array(labels)"
   ]
  },
  {
   "cell_type": "code",
   "execution_count": null,
   "id": "a05b7b18",
   "metadata": {},
   "outputs": [],
   "source": [
    "# Parameters\n",
    "SEGMENT_LENGTH = 50  # Input length in seconds\n",
    "PREDICTION_LENGTH = 5  # Prediction length in seconds\n",
    "SAMPLING_RATE = 500  # EEG sampling rate (Hz)\n",
    "WINDOW_SIZE = SEGMENT_LENGTH * SAMPLING_RATE  # Total input size\n",
    "PREDICT_SIZE = PREDICTION_LENGTH * SAMPLING_RATE  # Total output size\n",
    "OVERLAP = 0.5  # Overlap between windows\n",
    "EPOCHS = 20  # Number of epochs\n",
    "LAYER1 = 128  # Number of neurons in the first LSTM layer\n",
    "LAYER2 = 64  # Number of neurons in the second LSTM layer\n",
    "BATCH_SIZE = 32  # Batch size for training\n",
    "\n"
   ]
  },
  {
   "cell_type": "markdown",
   "id": "b2a35c63",
   "metadata": {},
   "source": [
    "# Data Prep"
   ]
  },
  {
   "cell_type": "code",
   "execution_count": 12,
   "id": "32f96db7",
   "metadata": {},
   "outputs": [
    {
     "name": "stdout",
     "output_type": "stream",
     "text": [
      "Using device: cuda\n",
      "\n",
      "Loading Healthy patients data for training...\n",
      "Loading data for patients 37-65...\n"
     ]
    },
    {
     "name": "stderr",
     "output_type": "stream",
     "text": [
      "100%|██████████| 29/29 [00:04<00:00,  5.93it/s]\n"
     ]
    },
    {
     "name": "stdout",
     "output_type": "stream",
     "text": [
      "\n",
      "Splitting data into training and validation sets...\n"
     ]
    }
   ],
   "source": [
    "# Set device\n",
    "device = torch.device('cuda' if torch.cuda.is_available() else 'cpu')\n",
    "print(f\"Using device: {device}\")\n",
    "torch.cuda.empty_cache()\n",
    "\n",
    "# Define patient groups\n",
    "PATIENT_GROUPS = {\n",
    "    'AD': (1, 36),      # Alzheimer's Disease patients\n",
    "    'Healthy': (37, 65), # Healthy patients\n",
    "    'FTD': (66, 88)     # Frontotemporal Dementia patients\n",
    "}\n",
    "# Select which group to test on\n",
    "TRAIN_GROUP = 'Healthy'  # Change this to train on different groups ('AD', 'Healthy', or 'FTD')\n",
    "first, last = PATIENT_GROUPS[TRAIN_GROUP]\n",
    "\n",
    "print(f\"\\nLoading {TRAIN_GROUP} patients data for training...\")\n",
    "eeg_data = load_and_preprocess_data(1000 + first, 1000 + last)\n",
    "inputs, labels = segment_data(eeg_data, WINDOW_SIZE, PREDICT_SIZE, OVERLAP)\n",
    "\n",
    "# Split into training and validation sets\n",
    "print(\"\\nSplitting data into training and validation sets...\")\n",
    "x_train, x_val, y_train, y_val = train_test_split(\n",
    "    inputs, labels, test_size=0.2, random_state=42)"
   ]
  },
  {
   "cell_type": "code",
   "execution_count": 13,
   "id": "cbfa445b",
   "metadata": {},
   "outputs": [
    {
     "name": "stdout",
     "output_type": "stream",
     "text": [
      "\n",
      "Data shapes:\n",
      "Training data: (744, 25000, 6)\n",
      "Validation data: (186, 25000, 6)\n"
     ]
    }
   ],
   "source": [
    "# Create datasets and dataloaders\n",
    "train_dataset = EEGDataset(x_train, y_train)\n",
    "val_dataset = EEGDataset(x_val, y_val)\n",
    "\n",
    "train_loader = DataLoader(train_dataset, batch_size=BATCH_SIZE, shuffle=True)\n",
    "val_loader = DataLoader(val_dataset, batch_size=BATCH_SIZE)\n",
    "\n",
    "print(f\"\\nData shapes:\")\n",
    "print(f\"Training data: {x_train.shape}\")\n",
    "print(f\"Validation data: {x_val.shape}\")\n",
    "\n"
   ]
  },
  {
   "cell_type": "markdown",
   "id": "cc5f9ed4",
   "metadata": {},
   "source": [
    "# Model Build and Training"
   ]
  },
  {
   "cell_type": "code",
   "execution_count": 14,
   "id": "11720a9f",
   "metadata": {},
   "outputs": [],
   "source": [
    "# Initialize model, loss function, and optimizer\n",
    "model = LSTMModel(input_size=len(ELECTRODES), hidden_size1=LAYER1, hidden_size2=LAYER2, output_size=PREDICT_SIZE)\n",
    "criterion = nn.MSELoss()\n",
    "optimizer = torch.optim.Adam(model.parameters())"
   ]
  },
  {
   "cell_type": "code",
   "execution_count": 15,
   "id": "40f68342",
   "metadata": {},
   "outputs": [
    {
     "name": "stdout",
     "output_type": "stream",
     "text": [
      "\n",
      "Training the model on Healthy patients data...\n"
     ]
    },
    {
     "name": "stderr",
     "output_type": "stream",
     "text": [
      "Epoch 1/20: 100%|██████████| 47/47 [03:46<00:00,  4.83s/it]\n"
     ]
    },
    {
     "name": "stdout",
     "output_type": "stream",
     "text": [
      "Epoch 1/20:\n",
      "Training Loss: 0.0640\n",
      "Validation Loss: 0.0509\n"
     ]
    },
    {
     "name": "stderr",
     "output_type": "stream",
     "text": [
      "Epoch 2/20: 100%|██████████| 47/47 [03:31<00:00,  4.49s/it]\n"
     ]
    },
    {
     "name": "stdout",
     "output_type": "stream",
     "text": [
      "Epoch 2/20:\n",
      "Training Loss: 0.0169\n",
      "Validation Loss: 0.0132\n"
     ]
    },
    {
     "name": "stderr",
     "output_type": "stream",
     "text": [
      "Epoch 3/20: 100%|██████████| 47/47 [03:41<00:00,  4.72s/it]\n"
     ]
    },
    {
     "name": "stdout",
     "output_type": "stream",
     "text": [
      "Epoch 3/20:\n",
      "Training Loss: 0.0167\n",
      "Validation Loss: 0.0143\n"
     ]
    },
    {
     "name": "stderr",
     "output_type": "stream",
     "text": [
      "Epoch 4/20: 100%|██████████| 47/47 [03:48<00:00,  4.86s/it]\n"
     ]
    },
    {
     "name": "stdout",
     "output_type": "stream",
     "text": [
      "Epoch 4/20:\n",
      "Training Loss: 0.0138\n",
      "Validation Loss: 0.0123\n"
     ]
    },
    {
     "name": "stderr",
     "output_type": "stream",
     "text": [
      "Epoch 5/20: 100%|██████████| 47/47 [03:37<00:00,  4.62s/it]\n"
     ]
    },
    {
     "name": "stdout",
     "output_type": "stream",
     "text": [
      "Epoch 5/20:\n",
      "Training Loss: 0.0126\n",
      "Validation Loss: 0.0141\n"
     ]
    },
    {
     "name": "stderr",
     "output_type": "stream",
     "text": [
      "Epoch 6/20: 100%|██████████| 47/47 [03:36<00:00,  4.61s/it]\n"
     ]
    },
    {
     "name": "stdout",
     "output_type": "stream",
     "text": [
      "Epoch 6/20:\n",
      "Training Loss: 0.0117\n",
      "Validation Loss: 0.0126\n"
     ]
    },
    {
     "name": "stderr",
     "output_type": "stream",
     "text": [
      "Epoch 7/20: 100%|██████████| 47/47 [03:44<00:00,  4.77s/it]\n"
     ]
    },
    {
     "name": "stdout",
     "output_type": "stream",
     "text": [
      "Epoch 7/20:\n",
      "Training Loss: 0.0130\n",
      "Validation Loss: 0.0125\n"
     ]
    },
    {
     "name": "stderr",
     "output_type": "stream",
     "text": [
      "Epoch 8/20: 100%|██████████| 47/47 [03:44<00:00,  4.78s/it]\n"
     ]
    },
    {
     "name": "stdout",
     "output_type": "stream",
     "text": [
      "Epoch 8/20:\n",
      "Training Loss: 0.0127\n",
      "Validation Loss: 0.0123\n"
     ]
    },
    {
     "name": "stderr",
     "output_type": "stream",
     "text": [
      "Epoch 9/20: 100%|██████████| 47/47 [03:45<00:00,  4.81s/it]\n"
     ]
    },
    {
     "name": "stdout",
     "output_type": "stream",
     "text": [
      "Epoch 9/20:\n",
      "Training Loss: 0.0124\n",
      "Validation Loss: 0.0108\n"
     ]
    },
    {
     "name": "stderr",
     "output_type": "stream",
     "text": [
      "Epoch 10/20: 100%|██████████| 47/47 [03:46<00:00,  4.81s/it]\n"
     ]
    },
    {
     "name": "stdout",
     "output_type": "stream",
     "text": [
      "Epoch 10/20:\n",
      "Training Loss: 0.0108\n",
      "Validation Loss: 0.0161\n"
     ]
    },
    {
     "name": "stderr",
     "output_type": "stream",
     "text": [
      "Epoch 11/20: 100%|██████████| 47/47 [03:44<00:00,  4.77s/it]\n"
     ]
    },
    {
     "name": "stdout",
     "output_type": "stream",
     "text": [
      "Epoch 11/20:\n",
      "Training Loss: 0.0104\n",
      "Validation Loss: 0.0097\n"
     ]
    },
    {
     "name": "stderr",
     "output_type": "stream",
     "text": [
      "Epoch 12/20: 100%|██████████| 47/47 [03:44<00:00,  4.77s/it]\n"
     ]
    },
    {
     "name": "stdout",
     "output_type": "stream",
     "text": [
      "Epoch 12/20:\n",
      "Training Loss: 0.0104\n",
      "Validation Loss: 0.0097\n"
     ]
    },
    {
     "name": "stderr",
     "output_type": "stream",
     "text": [
      "Epoch 13/20: 100%|██████████| 47/47 [03:44<00:00,  4.77s/it]\n"
     ]
    },
    {
     "name": "stdout",
     "output_type": "stream",
     "text": [
      "Epoch 13/20:\n",
      "Training Loss: 0.0109\n",
      "Validation Loss: 0.0135\n"
     ]
    },
    {
     "name": "stderr",
     "output_type": "stream",
     "text": [
      "Epoch 14/20: 100%|██████████| 47/47 [03:43<00:00,  4.77s/it]\n"
     ]
    },
    {
     "name": "stdout",
     "output_type": "stream",
     "text": [
      "Epoch 14/20:\n",
      "Training Loss: 0.0123\n",
      "Validation Loss: 0.0106\n"
     ]
    },
    {
     "name": "stderr",
     "output_type": "stream",
     "text": [
      "Epoch 15/20: 100%|██████████| 47/47 [03:43<00:00,  4.76s/it]\n"
     ]
    },
    {
     "name": "stdout",
     "output_type": "stream",
     "text": [
      "Epoch 15/20:\n",
      "Training Loss: 0.0104\n",
      "Validation Loss: 0.0147\n"
     ]
    },
    {
     "name": "stderr",
     "output_type": "stream",
     "text": [
      "Epoch 16/20: 100%|██████████| 47/47 [03:44<00:00,  4.77s/it]\n"
     ]
    },
    {
     "name": "stdout",
     "output_type": "stream",
     "text": [
      "Epoch 16/20:\n",
      "Training Loss: 0.0112\n",
      "Validation Loss: 0.0117\n"
     ]
    },
    {
     "name": "stderr",
     "output_type": "stream",
     "text": [
      "Epoch 17/20: 100%|██████████| 47/47 [03:44<00:00,  4.77s/it]\n"
     ]
    },
    {
     "name": "stdout",
     "output_type": "stream",
     "text": [
      "Epoch 17/20:\n",
      "Training Loss: 0.0106\n",
      "Validation Loss: 0.0100\n"
     ]
    },
    {
     "name": "stderr",
     "output_type": "stream",
     "text": [
      "Epoch 18/20: 100%|██████████| 47/47 [03:46<00:00,  4.81s/it]\n"
     ]
    },
    {
     "name": "stdout",
     "output_type": "stream",
     "text": [
      "Epoch 18/20:\n",
      "Training Loss: 0.0092\n",
      "Validation Loss: 0.0094\n"
     ]
    },
    {
     "name": "stderr",
     "output_type": "stream",
     "text": [
      "Epoch 19/20: 100%|██████████| 47/47 [03:44<00:00,  4.77s/it]\n"
     ]
    },
    {
     "name": "stdout",
     "output_type": "stream",
     "text": [
      "Epoch 19/20:\n",
      "Training Loss: 0.0101\n",
      "Validation Loss: 0.0139\n"
     ]
    },
    {
     "name": "stderr",
     "output_type": "stream",
     "text": [
      "Epoch 20/20: 100%|██████████| 47/47 [03:43<00:00,  4.75s/it]\n"
     ]
    },
    {
     "name": "stdout",
     "output_type": "stream",
     "text": [
      "Epoch 20/20:\n",
      "Training Loss: 0.0090\n",
      "Validation Loss: 0.0096\n"
     ]
    }
   ],
   "source": [
    "# Train the model\n",
    "os.environ[\"PYTORCH_CUDA_ALLOC_CONF\"] = \"expandable_segments:True\"\n",
    "\n",
    "print(f\"\\nTraining the model on {TRAIN_GROUP} patients data...\")\n",
    "train_loss, val_loss = train_model(model, train_loader, val_loader, criterion, optimizer, EPOCHS, device)"
   ]
  },
  {
   "cell_type": "markdown",
   "id": "1561c1e9",
   "metadata": {},
   "source": [
    "## Plot Training"
   ]
  },
  {
   "cell_type": "code",
   "execution_count": 23,
   "id": "fd0fc4ba",
   "metadata": {},
   "outputs": [
    {
     "data": {
      "image/png": "[encoded data removed]",
      "text/plain": [
       "<Figure size 800x500 with 1 Axes>"
      ]
     },
     "metadata": {},
     "output_type": "display_data"
    }
   ],
   "source": [
    "# Plot training and validation loss curves\n",
    "plt.figure(figsize=(8, 5))\n",
    "plt.plot(range(1,EPOCHS+1), train_loss, label='Training Loss')\n",
    "plt.plot(range(1,EPOCHS+1),val_loss, label='Validation Loss')\n",
    "plt.title(f'Training and Validation Loss duing Training on {TRAIN_GROUP} patients')\n",
    "plt.xlabel('Epochs')\n",
    "plt.ylabel('Loss')\n",
    "plt.xticks(range(1,EPOCHS+1))\n",
    "plt.legend()\n",
    "plt.grid()\n"
   ]
  },
  {
   "cell_type": "markdown",
   "id": "b83cba7a",
   "metadata": {},
   "source": [
    "## Save Model"
   ]
  },
  {
   "cell_type": "code",
   "execution_count": 9,
   "id": "8dfae1fa",
   "metadata": {},
   "outputs": [
    {
     "name": "stdout",
     "output_type": "stream",
     "text": [
      "\n",
      "Model saved to Models/50-5_FTD_patients_model(128,64)20epochsOverlap0.5frontal-electrodes(2).pth\n"
     ]
    }
   ],
   "source": [
    "# Create Models directory if it doesn't exist\n",
    "os.makedirs('Models', exist_ok=True)\n",
    "\n",
    "# Save the final model\n",
    "model_path = f'Models/{SEGMENT_LENGTH}-{PREDICTION_LENGTH}_{TRAIN_GROUP}_patients_model({LAYER1},{LAYER2}){EPOCHS}epochsOverlap{OVERLAP}frontal-electrodes(2).pth'\n",
    "torch.save(model.state_dict(), model_path)\n",
    "print(f\"\\nModel saved to {model_path}\")"
   ]
  }
 ],
 "metadata": {
  "kernelspec": {
   "display_name": ".venv",
   "language": "python",
   "name": "python3"
  },
  "language_info": {
   "codemirror_mode": {
    "name": "ipython",
    "version": 3
   },
   "file_extension": ".py",
   "mimetype": "text/x-python",
   "name": "python",
   "nbconvert_exporter": "python",
   "pygments_lexer": "ipython3",
   "version": "3.9.13"
  }
 },
 "nbformat": 4,
 "nbformat_minor": 5
}
